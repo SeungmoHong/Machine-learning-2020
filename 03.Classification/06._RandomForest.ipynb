{
 "metadata": {
  "language_info": {
   "codemirror_mode": {
    "name": "ipython",
    "version": 3
   },
   "file_extension": ".py",
   "mimetype": "text/x-python",
   "name": "python",
   "nbconvert_exporter": "python",
   "pygments_lexer": "ipython3",
   "version": "3.8.5-final"
  },
  "orig_nbformat": 2,
  "kernelspec": {
   "name": "python3",
   "display_name": "Python 3",
   "language": "python"
  }
 },
 "nbformat": 4,
 "nbformat_minor": 2,
 "cells": [
  {
   "source": [
    "# 랜덤포레스트"
   ],
   "cell_type": "markdown",
   "metadata": {}
  },
  {
   "cell_type": "code",
   "execution_count": 1,
   "metadata": {},
   "outputs": [],
   "source": [
    "import pandas as pd\n",
    "feature_name_df = pd.read_csv('../00.data/UCI HAR Dataset/UCI HAR Dataset/features.txt', sep='\\s+', header=None, \n",
    "                              names=['column_index','column_name'])"
   ]
  },
  {
   "cell_type": "code",
   "execution_count": 2,
   "metadata": {},
   "outputs": [],
   "source": [
    "unique_name = feature_name_df.column_name.unique()\n",
    "for i in unique_name:\n",
    "    if len(feature_name_df.column_name[feature_name_df.column_name == i]) > 1 :\n",
    "        t_l = feature_name_df.column_name[feature_name_df.column_name == i].index\n",
    "        feature_name_df.column_name[feature_name_df.column_name == i] += ['_1','_2','_3']\n",
    "\n",
    "feature_name = feature_name_df.iloc[:, 1].values.tolist()"
   ]
  },
  {
   "cell_type": "code",
   "execution_count": 3,
   "metadata": {},
   "outputs": [],
   "source": [
    "X_train = pd.read_csv('../00.data/UCI HAR Dataset/UCI HAR Dataset/train/X_train.txt', sep='\\s+', names=feature_name)\n",
    "X_test = pd.read_csv('../00.data/UCI HAR Dataset/UCI HAR Dataset/test/X_test.txt', sep='\\s+', names=feature_name)\n",
    "y_train = pd.read_csv('../00.data/UCI HAR Dataset/UCI HAR Dataset/train/y_train.txt', sep='\\s+', names=['action'])\n",
    "y_test = pd.read_csv('../00.data/UCI HAR Dataset/UCI HAR Dataset/test/y_test.txt', sep='\\s+', names=['action'])"
   ]
  },
  {
   "source": [
    "### 랜덤 포레스트 모델 생성/학습/예측/평가"
   ],
   "cell_type": "markdown",
   "metadata": {}
  },
  {
   "cell_type": "code",
   "execution_count": 4,
   "metadata": {},
   "outputs": [
    {
     "output_type": "stream",
     "name": "stdout",
     "text": [
      "랜덤 포레스트 정확도 : 0.9209\n"
     ]
    }
   ],
   "source": [
    "from sklearn.ensemble import RandomForestClassifier\n",
    "from sklearn.metrics import accuracy_score\n",
    "rf_clf = RandomForestClassifier()\n",
    "rf_clf.fit(X_train, y_train)\n",
    "pred = rf_clf.predict(X_test)\n",
    "acc = accuracy_score(y_test, pred)\n",
    "print(f'랜덤 포레스트 정확도 : {acc:.4f}')"
   ]
  },
  {
   "cell_type": "code",
   "execution_count": 5,
   "metadata": {},
   "outputs": [
    {
     "output_type": "execute_result",
     "data": {
      "text/plain": [
       "{'bootstrap': True,\n",
       " 'ccp_alpha': 0.0,\n",
       " 'class_weight': None,\n",
       " 'criterion': 'gini',\n",
       " 'max_depth': None,\n",
       " 'max_features': 'auto',\n",
       " 'max_leaf_nodes': None,\n",
       " 'max_samples': None,\n",
       " 'min_impurity_decrease': 0.0,\n",
       " 'min_impurity_split': None,\n",
       " 'min_samples_leaf': 1,\n",
       " 'min_samples_split': 2,\n",
       " 'min_weight_fraction_leaf': 0.0,\n",
       " 'n_estimators': 100,\n",
       " 'n_jobs': None,\n",
       " 'oob_score': False,\n",
       " 'random_state': None,\n",
       " 'verbose': 0,\n",
       " 'warm_start': False}"
      ]
     },
     "metadata": {},
     "execution_count": 5
    }
   ],
   "source": [
    "rf_clf.get_params()"
   ]
  },
  {
   "source": [
    "### 최적의 파라미터"
   ],
   "cell_type": "markdown",
   "metadata": {}
  },
  {
   "cell_type": "code",
   "execution_count": 6,
   "metadata": {},
   "outputs": [],
   "source": [
    "from sklearn.model_selection import GridSearchCV"
   ]
  },
  {
   "cell_type": "code",
   "execution_count": 7,
   "metadata": {},
   "outputs": [],
   "source": [
    "params = {\n",
    "    'max_depth': [8, 12, 16],\n",
    "    'min_samples_split': [12, 16, 20],\n",
    "    'n_estimators': [10, 30, 50]\n",
    "}"
   ]
  },
  {
   "cell_type": "code",
   "execution_count": 8,
   "metadata": {
    "tags": []
   },
   "outputs": [
    {
     "output_type": "stream",
     "name": "stdout",
     "text": [
      "Fitting 5 folds for each of 27 candidates, totalling 135 fits\n",
      "[Parallel(n_jobs=1)]: Using backend SequentialBackend with 1 concurrent workers.\n",
      "[Parallel(n_jobs=1)]: Done 135 out of 135 | elapsed:  4.1min finished\n",
      "최고 평균 정확도: 0.9196\n",
      "최적 파라미터: {'max_depth': 16, 'min_samples_split': 12, 'n_estimators': 50}\n"
     ]
    }
   ],
   "source": [
    "grid_cv = GridSearchCV(rf_clf, param_grid=params, scoring='accuracy', cv=5, verbose=1)\n",
    "grid_cv.fit(X_train, y_train)\n",
    "print(f'최고 평균 정확도: {grid_cv.best_score_:.4f}')\n",
    "print('최적 파라미터:', grid_cv.best_params_)"
   ]
  },
  {
   "cell_type": "code",
   "execution_count": 9,
   "metadata": {},
   "outputs": [
    {
     "output_type": "execute_result",
     "data": {
      "text/plain": [
       "   param_n_estimators param_max_depth param_min_samples_split  mean_test_score\n",
       "0                  10               8                      12         0.905608\n",
       "1                  30               8                      12         0.912412\n",
       "2                  50               8                      12         0.909960\n",
       "3                  10               8                      16         0.901801\n",
       "4                  30               8                      16         0.911730\n",
       "5                  50               8                      16         0.912135\n",
       "6                  10               8                      20         0.897447\n",
       "7                  30               8                      20         0.914176\n",
       "8                  50               8                      20         0.913360\n",
       "9                  10              12                      12         0.907513\n",
       "10                 30              12                      12         0.913089\n",
       "11                 50              12                      12         0.915673\n",
       "12                 10              12                      16         0.907376\n",
       "13                 30              12                      16         0.913905\n",
       "14                 50              12                      16         0.909961\n",
       "15                 10              12                      20         0.899079\n",
       "16                 30              12                      20         0.911184\n",
       "17                 50              12                      20         0.911456\n",
       "18                 10              16                      12         0.907921\n",
       "19                 30              16                      12         0.913496\n",
       "20                 50              16                      12         0.919616\n",
       "21                 10              16                      16         0.900711\n",
       "22                 30              16                      16         0.913632\n",
       "23                 50              16                      16         0.915403\n",
       "24                 10              16                      20         0.904248\n",
       "25                 30              16                      20         0.916354\n",
       "26                 50              16                      20         0.913360"
      ],
      "text/html": "<div>\n<style scoped>\n    .dataframe tbody tr th:only-of-type {\n        vertical-align: middle;\n    }\n\n    .dataframe tbody tr th {\n        vertical-align: top;\n    }\n\n    .dataframe thead th {\n        text-align: right;\n    }\n</style>\n<table border=\"1\" class=\"dataframe\">\n  <thead>\n    <tr style=\"text-align: right;\">\n      <th></th>\n      <th>param_n_estimators</th>\n      <th>param_max_depth</th>\n      <th>param_min_samples_split</th>\n      <th>mean_test_score</th>\n    </tr>\n  </thead>\n  <tbody>\n    <tr>\n      <th>0</th>\n      <td>10</td>\n      <td>8</td>\n      <td>12</td>\n      <td>0.905608</td>\n    </tr>\n    <tr>\n      <th>1</th>\n      <td>30</td>\n      <td>8</td>\n      <td>12</td>\n      <td>0.912412</td>\n    </tr>\n    <tr>\n      <th>2</th>\n      <td>50</td>\n      <td>8</td>\n      <td>12</td>\n      <td>0.909960</td>\n    </tr>\n    <tr>\n      <th>3</th>\n      <td>10</td>\n      <td>8</td>\n      <td>16</td>\n      <td>0.901801</td>\n    </tr>\n    <tr>\n      <th>4</th>\n      <td>30</td>\n      <td>8</td>\n      <td>16</td>\n      <td>0.911730</td>\n    </tr>\n    <tr>\n      <th>5</th>\n      <td>50</td>\n      <td>8</td>\n      <td>16</td>\n      <td>0.912135</td>\n    </tr>\n    <tr>\n      <th>6</th>\n      <td>10</td>\n      <td>8</td>\n      <td>20</td>\n      <td>0.897447</td>\n    </tr>\n    <tr>\n      <th>7</th>\n      <td>30</td>\n      <td>8</td>\n      <td>20</td>\n      <td>0.914176</td>\n    </tr>\n    <tr>\n      <th>8</th>\n      <td>50</td>\n      <td>8</td>\n      <td>20</td>\n      <td>0.913360</td>\n    </tr>\n    <tr>\n      <th>9</th>\n      <td>10</td>\n      <td>12</td>\n      <td>12</td>\n      <td>0.907513</td>\n    </tr>\n    <tr>\n      <th>10</th>\n      <td>30</td>\n      <td>12</td>\n      <td>12</td>\n      <td>0.913089</td>\n    </tr>\n    <tr>\n      <th>11</th>\n      <td>50</td>\n      <td>12</td>\n      <td>12</td>\n      <td>0.915673</td>\n    </tr>\n    <tr>\n      <th>12</th>\n      <td>10</td>\n      <td>12</td>\n      <td>16</td>\n      <td>0.907376</td>\n    </tr>\n    <tr>\n      <th>13</th>\n      <td>30</td>\n      <td>12</td>\n      <td>16</td>\n      <td>0.913905</td>\n    </tr>\n    <tr>\n      <th>14</th>\n      <td>50</td>\n      <td>12</td>\n      <td>16</td>\n      <td>0.909961</td>\n    </tr>\n    <tr>\n      <th>15</th>\n      <td>10</td>\n      <td>12</td>\n      <td>20</td>\n      <td>0.899079</td>\n    </tr>\n    <tr>\n      <th>16</th>\n      <td>30</td>\n      <td>12</td>\n      <td>20</td>\n      <td>0.911184</td>\n    </tr>\n    <tr>\n      <th>17</th>\n      <td>50</td>\n      <td>12</td>\n      <td>20</td>\n      <td>0.911456</td>\n    </tr>\n    <tr>\n      <th>18</th>\n      <td>10</td>\n      <td>16</td>\n      <td>12</td>\n      <td>0.907921</td>\n    </tr>\n    <tr>\n      <th>19</th>\n      <td>30</td>\n      <td>16</td>\n      <td>12</td>\n      <td>0.913496</td>\n    </tr>\n    <tr>\n      <th>20</th>\n      <td>50</td>\n      <td>16</td>\n      <td>12</td>\n      <td>0.919616</td>\n    </tr>\n    <tr>\n      <th>21</th>\n      <td>10</td>\n      <td>16</td>\n      <td>16</td>\n      <td>0.900711</td>\n    </tr>\n    <tr>\n      <th>22</th>\n      <td>30</td>\n      <td>16</td>\n      <td>16</td>\n      <td>0.913632</td>\n    </tr>\n    <tr>\n      <th>23</th>\n      <td>50</td>\n      <td>16</td>\n      <td>16</td>\n      <td>0.915403</td>\n    </tr>\n    <tr>\n      <th>24</th>\n      <td>10</td>\n      <td>16</td>\n      <td>20</td>\n      <td>0.904248</td>\n    </tr>\n    <tr>\n      <th>25</th>\n      <td>30</td>\n      <td>16</td>\n      <td>20</td>\n      <td>0.916354</td>\n    </tr>\n    <tr>\n      <th>26</th>\n      <td>50</td>\n      <td>16</td>\n      <td>20</td>\n      <td>0.913360</td>\n    </tr>\n  </tbody>\n</table>\n</div>"
     },
     "metadata": {},
     "execution_count": 9
    }
   ],
   "source": [
    "df = pd.DataFrame(grid_cv.cv_results_)\n",
    "df = df[['param_n_estimators', 'param_max_depth', 'param_min_samples_split', 'mean_test_score']]\n",
    "df"
   ]
  },
  {
   "source": [
    "### 튜닝된 파라미터로 재평가"
   ],
   "cell_type": "markdown",
   "metadata": {}
  },
  {
   "cell_type": "code",
   "execution_count": 10,
   "metadata": {},
   "outputs": [
    {
     "output_type": "stream",
     "name": "stdout",
     "text": [
      "최적 파라미터 랜덤 포레스트 정확도: 0.9291\n"
     ]
    }
   ],
   "source": [
    "best_clf = grid_cv.best_estimator_\n",
    "pred = best_clf.predict(X_test)\n",
    "acc = accuracy_score(y_test, pred)\n",
    "print(f'최적 파라미터 랜덤 포레스트 정확도: {acc:.4f}')"
   ]
  },
  {
   "cell_type": "code",
   "execution_count": 11,
   "metadata": {},
   "outputs": [],
   "source": [
    "### 재탐색"
   ]
  },
  {
   "cell_type": "code",
   "execution_count": 12,
   "metadata": {},
   "outputs": [
    {
     "output_type": "stream",
     "name": "stdout",
     "text": [
      "Fitting 5 folds for each of 3 candidates, totalling 15 fits\n",
      "[Parallel(n_jobs=1)]: Using backend SequentialBackend with 1 concurrent workers.\n",
      "[Parallel(n_jobs=1)]: Done  15 out of  15 | elapsed:   29.8s finished\n",
      "최고 평균 정확도: 0.9189\n",
      "최적 파라미터: {'n_estimators': 50}\n"
     ]
    }
   ],
   "source": [
    "params = {\n",
    "    'n_estimators': [10, 30, 50]\n",
    "}\n",
    "grid_cv = GridSearchCV(rf_clf, param_grid=params, scoring='accuracy', cv=5, verbose=1)\n",
    "grid_cv.fit(X_train, y_train)\n",
    "print(f'최고 평균 정확도: {grid_cv.best_score_:.4f}')\n",
    "print('최적 파라미터:', grid_cv.best_params_)"
   ]
  },
  {
   "cell_type": "code",
   "execution_count": 13,
   "metadata": {},
   "outputs": [
    {
     "output_type": "stream",
     "name": "stdout",
     "text": [
      "최적 파라미터 랜덤 포레스트 정확도: 0.9253\n"
     ]
    }
   ],
   "source": [
    "best_clf = grid_cv.best_estimator_\n",
    "pred = best_clf.predict(X_test)\n",
    "acc = accuracy_score(y_test, pred)\n",
    "print(f'최적 파라미터 랜덤 포레스트 정확도: {acc:.4f}')"
   ]
  },
  {
   "source": [
    "### K 최근접 이웃(K-Nearest Neighbor)"
   ],
   "cell_type": "markdown",
   "metadata": {}
  },
  {
   "cell_type": "code",
   "execution_count": 14,
   "metadata": {},
   "outputs": [
    {
     "output_type": "execute_result",
     "data": {
      "text/plain": [
       "{'algorithm': 'auto',\n",
       " 'leaf_size': 30,\n",
       " 'metric': 'minkowski',\n",
       " 'metric_params': None,\n",
       " 'n_jobs': None,\n",
       " 'n_neighbors': 5,\n",
       " 'p': 2,\n",
       " 'weights': 'uniform'}"
      ]
     },
     "metadata": {},
     "execution_count": 14
    }
   ],
   "source": [
    "from sklearn.neighbors import KNeighborsClassifier\n",
    "knn = KNeighborsClassifier()\n",
    "knn.get_params()"
   ]
  },
  {
   "cell_type": "code",
   "execution_count": 15,
   "metadata": {},
   "outputs": [
    {
     "output_type": "execute_result",
     "data": {
      "text/plain": [
       "0.9015948422124194"
      ]
     },
     "metadata": {},
     "execution_count": 15
    }
   ],
   "source": [
    "knn.fit(X_train,y_train)\n",
    "pred = knn.predict(X_test)\n",
    "accuracy_score(y_test,pred)"
   ]
  },
  {
   "cell_type": "code",
   "execution_count": 16,
   "metadata": {},
   "outputs": [
    {
     "output_type": "stream",
     "name": "stdout",
     "text": [
      "최고 평균 정확도: 0.9018\n최적 파라미터: {'leaf_size': 20, 'n_neighbors': 15}\n"
     ]
    }
   ],
   "source": [
    "params = {\n",
    "    'leaf_size': [20, 30, 40],\n",
    "    'n_neighbors': [5, 10, 15]\n",
    "}\n",
    "grid_cv = GridSearchCV(knn, param_grid=params, scoring='accuracy', cv=5)\n",
    "grid_cv.fit(X_train, y_train)\n",
    "print(f'최고 평균 정확도: {grid_cv.best_score_:.4f}')\n",
    "print('최적 파라미터:', grid_cv.best_params_)"
   ]
  },
  {
   "cell_type": "code",
   "execution_count": null,
   "metadata": {},
   "outputs": [],
   "source": []
  }
 ]
}