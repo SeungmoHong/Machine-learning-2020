{
 "metadata": {
  "language_info": {
   "codemirror_mode": {
    "name": "ipython",
    "version": 3
   },
   "file_extension": ".py",
   "mimetype": "text/x-python",
   "name": "python",
   "nbconvert_exporter": "python",
   "pygments_lexer": "ipython3",
   "version": "3.8.5-final"
  },
  "orig_nbformat": 2,
  "kernelspec": {
   "name": "python3",
   "display_name": "Python 3",
   "language": "python"
  }
 },
 "nbformat": 4,
 "nbformat_minor": 2,
 "cells": [
  {
   "source": [
    "# 네이버 파파고 번역기"
   ],
   "cell_type": "markdown",
   "metadata": {}
  },
  {
   "source": [
    "- https://github.com/NaverCloudPlatform/ai-python-sample"
   ],
   "cell_type": "markdown",
   "metadata": {}
  },
  {
   "cell_type": "code",
   "execution_count": 4,
   "metadata": {},
   "outputs": [],
   "source": [
    "import requests\n",
    "import json\n",
    "with open('keys/papago_key.json') as nkey:\n",
    "    json_str = nkey.read(100)\n",
    "json_obj = json.loads(json_str)\n",
    "client_id = list(json_obj.keys())[0]\n",
    "client_secret = json_obj[client_id]"
   ]
  },
  {
   "cell_type": "code",
   "execution_count": 2,
   "metadata": {},
   "outputs": [],
   "source": [
    "url = \"https://naveropenapi.apigw.ntruss.com/nmt/v1/translation\"\n",
    "\n",
    "text = \"\"\"네이버 클라우드 플랫폼에서는 Clova, papago 등 네이버의 다양한 인공지능 서비스를 API 형태로 제공합니다. 고객은 네이버의 인공지능 서비스를 활용하여, \n",
    "최신 기술 기반의 AI 서비스를 구축하고 안정적으로 운영할 수 있습니다.\"\"\""
   ]
  },
  {
   "source": [
    "- ko : 한국어\u000b\n",
    "- en : 영어\u000b\n",
    "- zh-CN : 중국어 간체\u000b\n",
    "- zh-TW : 중국어 번체\u000b\n",
    "- es: 스페인어\u000b\n",
    "- fr: 프랑스어\n",
    "- vi: 베트남어\u000b\n",
    "- th: 태국어\u000b\n",
    "- id: 인도네시아어"
   ],
   "cell_type": "markdown",
   "metadata": {}
  },
  {
   "cell_type": "code",
   "execution_count": 5,
   "metadata": {},
   "outputs": [],
   "source": [
    "val = {\n",
    "    \"source\": 'ko',\n",
    "    \"target\": 'en',\n",
    "    \"text\": text\n",
    "}"
   ]
  },
  {
   "cell_type": "code",
   "execution_count": 6,
   "metadata": {},
   "outputs": [],
   "source": [
    "headers = {\n",
    "    \"X-NCP-APIGW-API-KEY-ID\": client_id,\n",
    "    \"X-NCP-APIGW-API-KEY\": client_secret\n",
    "}"
   ]
  },
  {
   "cell_type": "code",
   "execution_count": 7,
   "metadata": {},
   "outputs": [
    {
     "output_type": "execute_result",
     "data": {
      "text/plain": [
       "200"
      ]
     },
     "metadata": {},
     "execution_count": 7
    }
   ],
   "source": [
    "response = requests.post(url,  data=val, headers=headers)\n",
    "rescode = response.status_code\n",
    "\n",
    "rescode"
   ]
  },
  {
   "cell_type": "code",
   "execution_count": 8,
   "metadata": {},
   "outputs": [
    {
     "output_type": "stream",
     "name": "stdout",
     "text": [
      "{\"message\":{\"@type\":\"response\",\"@service\":\"naverservice.nmt.proxy\",\"@version\":\"1.0.0\",\"result\":{\"srcLangType\":\"ko\",\"tarLangType\":\"en\",\"translatedText\":\"Naver's cloud platform provides various artificial intelligence services such as Clova and papago in API form. Customers use Naver's artificial intelligence service. \\n\\\"We can build and operate AI services based on the latest technology.\"}}}\n"
     ]
    }
   ],
   "source": [
    "if rescode == 200:\n",
    "    print(response.text)\n",
    "else:\n",
    "    print(\"Error : \" + response.text)"
   ]
  },
  {
   "cell_type": "code",
   "execution_count": 21,
   "metadata": {},
   "outputs": [
    {
     "output_type": "execute_result",
     "data": {
      "text/plain": [
       "{'message': {'@type': 'response',\n",
       "  '@service': 'naverservice.nmt.proxy',\n",
       "  '@version': '1.0.0',\n",
       "  'result': {'srcLangType': 'ko',\n",
       "   'tarLangType': 'en',\n",
       "   'translatedText': 'Naver\\'s cloud platform provides various artificial intelligence services such as Clova and papago in API form. Customers use Naver\\'s artificial intelligence service. \\n\"We can build and operate AI services based on the latest technology.'}}}"
      ]
     },
     "metadata": {},
     "execution_count": 21
    }
   ],
   "source": [
    "result = json.loads(response.text)\n",
    "result"
   ]
  },
  {
   "cell_type": "code",
   "execution_count": 24,
   "metadata": {},
   "outputs": [
    {
     "output_type": "execute_result",
     "data": {
      "text/plain": [
       "'Naver\\'s cloud platform provides various artificial intelligence services such as Clova and papago in API form. Customers use Naver\\'s artificial intelligence service. \\n\"We can build and operate AI services based on the latest technology.'"
      ]
     },
     "metadata": {},
     "execution_count": 24
    }
   ],
   "source": [
    "result['message']['result']['translatedText']"
   ]
  },
  {
   "source": [
    "- 네이버 클라우드 플랫폼에서는 Clova, papago 등 네이버의 다양한 인공지능 서비스를 API 형태로 제공합니다. 고객은 네이버의 인공지능 서비스를 활용하여, \n",
    "- 최신 기술 기반의 AI 서비스를 구축하고 안정적으로 운영할 수 있습니다."
   ],
   "cell_type": "markdown",
   "metadata": {}
  },
  {
   "source": [
    "- Naver's cloud platform provides various artificial intelligence services such as Clova and papago in API form. \n",
    "- Customers use Naver\\'s artificial intelligence service.\n",
    "- \"We can build and operate AI services based on the latest technology."
   ],
   "cell_type": "markdown",
   "metadata": {}
  },
  {
   "source": [
    "### 영어 => 한글"
   ],
   "cell_type": "markdown",
   "metadata": {}
  },
  {
   "cell_type": "code",
   "execution_count": 25,
   "metadata": {},
   "outputs": [],
   "source": [
    "eng_text = result['message']['result']['translatedText']"
   ]
  },
  {
   "cell_type": "code",
   "execution_count": 27,
   "metadata": {},
   "outputs": [
    {
     "output_type": "execute_result",
     "data": {
      "text/plain": [
       "200"
      ]
     },
     "metadata": {},
     "execution_count": 27
    }
   ],
   "source": [
    "val = {\n",
    "    \"source\": 'en',\n",
    "    \"target\": 'ko',\n",
    "    \"text\": eng_text\n",
    "}\n",
    "response = requests.post(url,  data=val, headers=headers)\n",
    "rescode = response.status_code\n",
    "\n",
    "rescode"
   ]
  },
  {
   "cell_type": "code",
   "execution_count": 28,
   "metadata": {},
   "outputs": [
    {
     "output_type": "execute_result",
     "data": {
      "text/plain": [
       "{'message': {'@type': 'response',\n",
       "  '@service': 'naverservice.nmt.proxy',\n",
       "  '@version': '1.0.0',\n",
       "  'result': {'srcLangType': 'en',\n",
       "   'tarLangType': 'ko',\n",
       "   'translatedText': '네이버의 클라우드 플랫폼은 클로바, 파파고 등 다양한 인공지능 서비스를 API 형태로 제공하고 있다. 고객들은 네이버의 인공지능 서비스를 이용한다. \\n\"우리는 최신 기술을 기반으로 AI 서비스를 구축하고 운영할 수 있습니다.'}}}"
      ]
     },
     "metadata": {},
     "execution_count": 28
    }
   ],
   "source": [
    "result = json.loads(response.text)\n",
    "result"
   ]
  },
  {
   "cell_type": "code",
   "execution_count": 29,
   "metadata": {},
   "outputs": [
    {
     "output_type": "execute_result",
     "data": {
      "text/plain": [
       "'네이버의 클라우드 플랫폼은 클로바, 파파고 등 다양한 인공지능 서비스를 API 형태로 제공하고 있다. 고객들은 네이버의 인공지능 서비스를 이용한다. \\n\"우리는 최신 기술을 기반으로 AI 서비스를 구축하고 운영할 수 있습니다.'"
      ]
     },
     "metadata": {},
     "execution_count": 29
    }
   ],
   "source": [
    "result['message']['result']['translatedText']"
   ]
  },
  {
   "source": [
    "### 한글 => 중국어"
   ],
   "cell_type": "markdown",
   "metadata": {}
  },
  {
   "cell_type": "code",
   "execution_count": 38,
   "metadata": {},
   "outputs": [
    {
     "output_type": "execute_result",
     "data": {
      "text/plain": [
       "200"
      ]
     },
     "metadata": {},
     "execution_count": 38
    }
   ],
   "source": [
    "val = {\n",
    "    \"source\": 'ko',\n",
    "    \"target\": 'zh-TW',\n",
    "    \"text\": text\n",
    "}\n",
    "response = requests.post(url,  data=val, headers=headers)\n",
    "rescode = response.status_code\n",
    "\n",
    "rescode"
   ]
  },
  {
   "cell_type": "code",
   "execution_count": 39,
   "metadata": {},
   "outputs": [
    {
     "output_type": "execute_result",
     "data": {
      "text/plain": [
       "'Naver雲平臺以API形式提供Clova、papago等Naver多種人工智能服務。 顧客使用Naver的人工智能服務， \\n\"可以構建以最新技術爲基礎的AI服務，並穩定運營。'"
      ]
     },
     "metadata": {},
     "execution_count": 39
    }
   ],
   "source": [
    "result = json.loads(response.text)\n",
    "result['message']['result']['translatedText']"
   ]
  },
  {
   "cell_type": "code",
   "execution_count": null,
   "metadata": {},
   "outputs": [],
   "source": []
  }
 ]
}