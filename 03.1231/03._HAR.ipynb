{
 "metadata": {
  "language_info": {
   "codemirror_mode": {
    "name": "ipython",
    "version": 3
   },
   "file_extension": ".py",
   "mimetype": "text/x-python",
   "name": "python",
   "nbconvert_exporter": "python",
   "pygments_lexer": "ipython3",
   "version": "3.8.5-final"
  },
  "orig_nbformat": 2,
  "kernelspec": {
   "name": "python3",
   "display_name": "Python 3",
   "language": "python"
  }
 },
 "nbformat": 4,
 "nbformat_minor": 2,
 "cells": [
  {
   "source": [
    "# 해보자일단"
   ],
   "cell_type": "markdown",
   "metadata": {}
  },
  {
   "cell_type": "code",
   "execution_count": 138,
   "metadata": {},
   "outputs": [],
   "source": [
    "from sklearn.tree import DecisionTreeClassifier\n",
    "import numpy as np\n",
    "import pandas as pd"
   ]
  },
  {
   "cell_type": "code",
   "execution_count": 159,
   "metadata": {},
   "outputs": [],
   "source": [
    "feature_name_df = pd.read_csv('../00.data/UCI HAR Dataset/UCI HAR Dataset/features.txt', sep='\\s+', header=None, \n",
    "                              names=['column_index','column_name'])"
   ]
  },
  {
   "cell_type": "code",
   "execution_count": 140,
   "metadata": {},
   "outputs": [
    {
     "output_type": "execute_result",
     "data": {
      "text/plain": [
       "   column_index        column_name\n",
       "0             1  tBodyAcc-mean()-X\n",
       "1             2  tBodyAcc-mean()-Y\n",
       "2             3  tBodyAcc-mean()-Z\n",
       "3             4   tBodyAcc-std()-X\n",
       "4             5   tBodyAcc-std()-Y"
      ],
      "text/html": "<div>\n<style scoped>\n    .dataframe tbody tr th:only-of-type {\n        vertical-align: middle;\n    }\n\n    .dataframe tbody tr th {\n        vertical-align: top;\n    }\n\n    .dataframe thead th {\n        text-align: right;\n    }\n</style>\n<table border=\"1\" class=\"dataframe\">\n  <thead>\n    <tr style=\"text-align: right;\">\n      <th></th>\n      <th>column_index</th>\n      <th>column_name</th>\n    </tr>\n  </thead>\n  <tbody>\n    <tr>\n      <th>0</th>\n      <td>1</td>\n      <td>tBodyAcc-mean()-X</td>\n    </tr>\n    <tr>\n      <th>1</th>\n      <td>2</td>\n      <td>tBodyAcc-mean()-Y</td>\n    </tr>\n    <tr>\n      <th>2</th>\n      <td>3</td>\n      <td>tBodyAcc-mean()-Z</td>\n    </tr>\n    <tr>\n      <th>3</th>\n      <td>4</td>\n      <td>tBodyAcc-std()-X</td>\n    </tr>\n    <tr>\n      <th>4</th>\n      <td>5</td>\n      <td>tBodyAcc-std()-Y</td>\n    </tr>\n  </tbody>\n</table>\n</div>"
     },
     "metadata": {},
     "execution_count": 140
    }
   ],
   "source": [
    "feature_name_df.head()"
   ]
  },
  {
   "cell_type": "code",
   "execution_count": 141,
   "metadata": {},
   "outputs": [
    {
     "output_type": "execute_result",
     "data": {
      "text/plain": [
       "0                         tBodyAcc-mean()-X\n",
       "1                         tBodyAcc-mean()-Y\n",
       "2                         tBodyAcc-mean()-Z\n",
       "3                          tBodyAcc-std()-X\n",
       "4                          tBodyAcc-std()-Y\n",
       "                       ...                 \n",
       "556        angle(tBodyGyroMean,gravityMean)\n",
       "557    angle(tBodyGyroJerkMean,gravityMean)\n",
       "558                    angle(X,gravityMean)\n",
       "559                    angle(Y,gravityMean)\n",
       "560                    angle(Z,gravityMean)\n",
       "Name: column_name, Length: 561, dtype: object"
      ]
     },
     "metadata": {},
     "execution_count": 141
    }
   ],
   "source": [
    "feature_name_df.column_name"
   ]
  },
  {
   "cell_type": "code",
   "execution_count": 142,
   "metadata": {},
   "outputs": [
    {
     "output_type": "execute_result",
     "data": {
      "text/plain": [
       "477"
      ]
     },
     "metadata": {},
     "execution_count": 142
    }
   ],
   "source": [
    "len(feature_name_df.column_name.unique())"
   ]
  },
  {
   "source": [
    "### 모두 다른 이름을 갖고 있는게 아니다"
   ],
   "cell_type": "markdown",
   "metadata": {}
  },
  {
   "cell_type": "code",
   "execution_count": 143,
   "metadata": {},
   "outputs": [
    {
     "output_type": "stream",
     "name": "stdout",
     "text": [
      " 갯수 :3\n 칼럼이름 : fBodyAcc-bandsEnergy()-1,8\n 갯수 :3\n 칼럼이름 : fBodyAcc-bandsEnergy()-9,16\n 갯수 :3\n 칼럼이름 : fBodyAcc-bandsEnergy()-17,24\n 갯수 :3\n 칼럼이름 : fBodyAcc-bandsEnergy()-25,32\n 갯수 :3\n 칼럼이름 : fBodyAcc-bandsEnergy()-33,40\n 갯수 :3\n 칼럼이름 : fBodyAcc-bandsEnergy()-41,48\n 갯수 :3\n 칼럼이름 : fBodyAcc-bandsEnergy()-49,56\n 갯수 :3\n 칼럼이름 : fBodyAcc-bandsEnergy()-57,64\n 갯수 :3\n 칼럼이름 : fBodyAcc-bandsEnergy()-1,16\n 갯수 :3\n 칼럼이름 : fBodyAcc-bandsEnergy()-17,32\n 갯수 :3\n 칼럼이름 : fBodyAcc-bandsEnergy()-33,48\n 갯수 :3\n 칼럼이름 : fBodyAcc-bandsEnergy()-49,64\n 갯수 :3\n 칼럼이름 : fBodyAcc-bandsEnergy()-1,24\n 갯수 :3\n 칼럼이름 : fBodyAcc-bandsEnergy()-25,48\n 갯수 :3\n 칼럼이름 : fBodyAccJerk-bandsEnergy()-1,8\n 갯수 :3\n 칼럼이름 : fBodyAccJerk-bandsEnergy()-9,16\n 갯수 :3\n 칼럼이름 : fBodyAccJerk-bandsEnergy()-17,24\n 갯수 :3\n 칼럼이름 : fBodyAccJerk-bandsEnergy()-25,32\n 갯수 :3\n 칼럼이름 : fBodyAccJerk-bandsEnergy()-33,40\n 갯수 :3\n 칼럼이름 : fBodyAccJerk-bandsEnergy()-41,48\n 갯수 :3\n 칼럼이름 : fBodyAccJerk-bandsEnergy()-49,56\n 갯수 :3\n 칼럼이름 : fBodyAccJerk-bandsEnergy()-57,64\n 갯수 :3\n 칼럼이름 : fBodyAccJerk-bandsEnergy()-1,16\n 갯수 :3\n 칼럼이름 : fBodyAccJerk-bandsEnergy()-17,32\n 갯수 :3\n 칼럼이름 : fBodyAccJerk-bandsEnergy()-33,48\n 갯수 :3\n 칼럼이름 : fBodyAccJerk-bandsEnergy()-49,64\n 갯수 :3\n 칼럼이름 : fBodyAccJerk-bandsEnergy()-1,24\n 갯수 :3\n 칼럼이름 : fBodyAccJerk-bandsEnergy()-25,48\n 갯수 :3\n 칼럼이름 : fBodyGyro-bandsEnergy()-1,8\n 갯수 :3\n 칼럼이름 : fBodyGyro-bandsEnergy()-9,16\n 갯수 :3\n 칼럼이름 : fBodyGyro-bandsEnergy()-17,24\n 갯수 :3\n 칼럼이름 : fBodyGyro-bandsEnergy()-25,32\n 갯수 :3\n 칼럼이름 : fBodyGyro-bandsEnergy()-33,40\n 갯수 :3\n 칼럼이름 : fBodyGyro-bandsEnergy()-41,48\n 갯수 :3\n 칼럼이름 : fBodyGyro-bandsEnergy()-49,56\n 갯수 :3\n 칼럼이름 : fBodyGyro-bandsEnergy()-57,64\n 갯수 :3\n 칼럼이름 : fBodyGyro-bandsEnergy()-1,16\n 갯수 :3\n 칼럼이름 : fBodyGyro-bandsEnergy()-17,32\n 갯수 :3\n 칼럼이름 : fBodyGyro-bandsEnergy()-33,48\n 갯수 :3\n 칼럼이름 : fBodyGyro-bandsEnergy()-49,64\n 갯수 :3\n 칼럼이름 : fBodyGyro-bandsEnergy()-1,24\n 갯수 :3\n 칼럼이름 : fBodyGyro-bandsEnergy()-25,48\n"
     ]
    }
   ],
   "source": [
    "unique_name = feature_name_df.column_name.unique()\n",
    "for i in unique_name:\n",
    "    if len(feature_name_df.column_name[feature_name_df.column_name == i]) > 1 :\n",
    "        count = len(feature_name_df.column_name[feature_name_df.column_name == i])\n",
    "        print (f' 갯수 :{count}')\n",
    "        print (f' 칼럼이름 : {i}')"
   ]
  },
  {
   "source": [
    "### 같은 이름을 갖고 있는 피쳐"
   ],
   "cell_type": "markdown",
   "metadata": {}
  },
  {
   "cell_type": "code",
   "execution_count": 169,
   "metadata": {},
   "outputs": [],
   "source": [
    "for i in unique_name:\n",
    "    if len(feature_name_df.column_name[feature_name_df.column_name == i]) > 1 :\n",
    "        t_l = feature_name_df.column_name[feature_name_df.column_name == i].index\n",
    "        feature_name_df.column_name[feature_name_df.column_name == i] += ['_1','_2','_3']"
   ]
  },
  {
   "cell_type": "code",
   "execution_count": 170,
   "metadata": {},
   "outputs": [
    {
     "output_type": "execute_result",
     "data": {
      "text/plain": [
       "561"
      ]
     },
     "metadata": {},
     "execution_count": 170
    }
   ],
   "source": [
    "len(feature_name_df.column_name.unique())"
   ]
  },
  {
   "source": [
    "#### 각각 다른이름 붙인 것을 확인"
   ],
   "cell_type": "markdown",
   "metadata": {}
  },
  {
   "cell_type": "code",
   "execution_count": 171,
   "metadata": {},
   "outputs": [],
   "source": [
    "feature_name = feature_name_df.iloc[:, 1].values.tolist()"
   ]
  },
  {
   "source": [
    "### 데이터 불러오기"
   ],
   "cell_type": "markdown",
   "metadata": {}
  },
  {
   "cell_type": "code",
   "execution_count": 173,
   "metadata": {},
   "outputs": [],
   "source": [
    "X_train = pd.read_csv('../00.data/UCI HAR Dataset/UCI HAR Dataset/train/X_train.txt', sep='\\s+', names=feature_name)\n",
    "X_test = pd.read_csv('../00.data/UCI HAR Dataset/UCI HAR Dataset/test/X_test.txt', sep='\\s+', names=feature_name)"
   ]
  },
  {
   "cell_type": "code",
   "execution_count": 177,
   "metadata": {},
   "outputs": [],
   "source": [
    "y_train = pd.read_csv('../00.data/UCI HAR Dataset/UCI HAR Dataset/train/y_train.txt', sep='\\s+', names=['action'])\n",
    "y_test = pd.read_csv('../00.data/UCI HAR Dataset/UCI HAR Dataset/test/y_test.txt', sep='\\s+', names=['action'])"
   ]
  },
  {
   "cell_type": "code",
   "execution_count": 178,
   "metadata": {},
   "outputs": [
    {
     "output_type": "execute_result",
     "data": {
      "text/plain": [
       "((7352, 561), (7352, 1), (2947, 561), (2947, 1))"
      ]
     },
     "metadata": {},
     "execution_count": 178
    }
   ],
   "source": [
    "X_train.shape, y_train.shape, X_test.shape, y_test.shape"
   ]
  },
  {
   "source": [
    "### 제약 x"
   ],
   "cell_type": "markdown",
   "metadata": {}
  },
  {
   "cell_type": "code",
   "execution_count": 183,
   "metadata": {},
   "outputs": [],
   "source": [
    "from sklearn.tree import DecisionTreeClassifier\n",
    "from sklearn.metrics import accuracy_score\n",
    "\n",
    "dt_clf = DecisionTreeClassifier(random_state=156)\n",
    "dt_clf.fit(X_train, y_train)\n",
    "pred = dt_clf.predict(X_test)"
   ]
  },
  {
   "cell_type": "code",
   "execution_count": 184,
   "metadata": {},
   "outputs": [
    {
     "output_type": "execute_result",
     "data": {
      "text/plain": [
       "0.8547675602307431"
      ]
     },
     "metadata": {},
     "execution_count": 184
    }
   ],
   "source": [
    "from sklearn.metrics import accuracy_score\n",
    "accuracy_score(y_test, pred)"
   ]
  },
  {
   "source": [
    "### 최적의 하이퍼 파라미터"
   ],
   "cell_type": "markdown",
   "metadata": {}
  },
  {
   "cell_type": "code",
   "execution_count": 187,
   "metadata": {},
   "outputs": [
    {
     "output_type": "stream",
     "name": "stdout",
     "text": [
      "GridSearchCV 최적 하이퍼 파라미터: {'max_depth': 10, 'min_samples_leaf': 6, 'min_samples_split': 2}\nGridSearchCV 최고 정확도: 0.8556\n테스트 세트에서의 DecisionTreeClassifier 정확도: 0.8748\n"
     ]
    }
   ],
   "source": [
    "from sklearn.model_selection import GridSearchCV\n",
    "\n",
    "parameters = {\n",
    "    'max_depth':[ 6, 8 ,10, 12],\n",
    "    'min_samples_leaf':[5,6,7,8],\n",
    "    'min_samples_split':[2,3,4] \n",
    "}\n",
    "grid_dclf = GridSearchCV(dt_clf, param_grid=parameters, scoring='accuracy', cv=5)\n",
    "grid_dclf.fit(X_train, y_train)\n",
    "\n",
    "print('GridSearchCV 최적 하이퍼 파라미터:', grid_dclf.best_params_)\n",
    "print(f'GridSearchCV 최고 정확도: {grid_dclf.best_score_:.4f}')\n",
    "best_dclf = grid_dclf.best_estimator_\n",
    "\n",
    "# GridSearchCV의 최적 하이퍼 파라미터로 학습된 Estimator로 예측 및 평가 수행. \n",
    "pred = best_dclf.predict(X_test)\n",
    "accuracy = accuracy_score(y_test, pred)\n",
    "print(f'테스트 세트에서의 DecisionTreeClassifier 정확도: {accuracy:.4f}')"
   ]
  },
  {
   "source": [
    "### 중요도"
   ],
   "cell_type": "markdown",
   "metadata": {}
  },
  {
   "cell_type": "code",
   "execution_count": 188,
   "metadata": {},
   "outputs": [],
   "source": [
    "import seaborn as sns\n",
    "%matplotlib inline"
   ]
  },
  {
   "cell_type": "code",
   "execution_count": 214,
   "metadata": {},
   "outputs": [],
   "source": [
    "imp = pd.DataFrame(best_dclf.feature_importances_, index = feature_name)"
   ]
  },
  {
   "cell_type": "code",
   "execution_count": 215,
   "metadata": {},
   "outputs": [
    {
     "output_type": "execute_result",
     "data": {
      "text/plain": [
       "                          0\n",
       "tBodyAcc-mean()-X  0.000000\n",
       "tBodyAcc-mean()-Y  0.000000\n",
       "tBodyAcc-mean()-Z  0.000000\n",
       "tBodyAcc-std()-X   0.000000\n",
       "tBodyAcc-std()-Y   0.001014"
      ],
      "text/html": "<div>\n<style scoped>\n    .dataframe tbody tr th:only-of-type {\n        vertical-align: middle;\n    }\n\n    .dataframe tbody tr th {\n        vertical-align: top;\n    }\n\n    .dataframe thead th {\n        text-align: right;\n    }\n</style>\n<table border=\"1\" class=\"dataframe\">\n  <thead>\n    <tr style=\"text-align: right;\">\n      <th></th>\n      <th>0</th>\n    </tr>\n  </thead>\n  <tbody>\n    <tr>\n      <th>tBodyAcc-mean()-X</th>\n      <td>0.000000</td>\n    </tr>\n    <tr>\n      <th>tBodyAcc-mean()-Y</th>\n      <td>0.000000</td>\n    </tr>\n    <tr>\n      <th>tBodyAcc-mean()-Z</th>\n      <td>0.000000</td>\n    </tr>\n    <tr>\n      <th>tBodyAcc-std()-X</th>\n      <td>0.000000</td>\n    </tr>\n    <tr>\n      <th>tBodyAcc-std()-Y</th>\n      <td>0.001014</td>\n    </tr>\n  </tbody>\n</table>\n</div>"
     },
     "metadata": {},
     "execution_count": 215
    }
   ],
   "source": [
    "imp.head()"
   ]
  },
  {
   "cell_type": "code",
   "execution_count": 218,
   "metadata": {},
   "outputs": [],
   "source": [
    "chart = imp.sort_values(by=0,ascending=False)"
   ]
  },
  {
   "cell_type": "code",
   "execution_count": 222,
   "metadata": {},
   "outputs": [
    {
     "output_type": "execute_result",
     "data": {
      "text/plain": [
       "array([[0.24767659],\n",
       "       [0.2078194 ],\n",
       "       [0.13723939],\n",
       "       [0.11289052],\n",
       "       [0.09927213],\n",
       "       [0.02343368],\n",
       "       [0.01683346],\n",
       "       [0.01606515],\n",
       "       [0.0123295 ],\n",
       "       [0.00896362],\n",
       "       [0.00881301],\n",
       "       [0.0086268 ],\n",
       "       [0.00614936],\n",
       "       [0.00524993],\n",
       "       [0.00512918],\n",
       "       [0.00427487],\n",
       "       [0.00387784],\n",
       "       [0.00339332],\n",
       "       [0.00305895],\n",
       "       [0.00295676]])"
      ]
     },
     "metadata": {},
     "execution_count": 222
    }
   ],
   "source": []
  },
  {
   "cell_type": "code",
   "execution_count": 223,
   "metadata": {},
   "outputs": [
    {
     "output_type": "error",
     "ename": "Exception",
     "evalue": "Data must be 1-dimensional",
     "traceback": [
      "\u001b[1;31m---------------------------------------------------------------------------\u001b[0m",
      "\u001b[1;31mException\u001b[0m                                 Traceback (most recent call last)",
      "\u001b[1;32m<ipython-input-223-d1edebd2c116>\u001b[0m in \u001b[0;36m<module>\u001b[1;34m\u001b[0m\n\u001b[1;32m----> 1\u001b[1;33m \u001b[0msns\u001b[0m\u001b[1;33m.\u001b[0m\u001b[0mbarplot\u001b[0m\u001b[1;33m(\u001b[0m\u001b[0mx\u001b[0m \u001b[1;33m=\u001b[0m \u001b[0mchart\u001b[0m\u001b[1;33m[\u001b[0m\u001b[1;33m:\u001b[0m\u001b[1;36m20\u001b[0m\u001b[1;33m]\u001b[0m\u001b[1;33m.\u001b[0m\u001b[0mvalues\u001b[0m\u001b[1;33m,\u001b[0m \u001b[0my\u001b[0m \u001b[1;33m=\u001b[0m \u001b[0mchart\u001b[0m\u001b[1;33m[\u001b[0m\u001b[1;33m:\u001b[0m\u001b[1;36m20\u001b[0m\u001b[1;33m]\u001b[0m\u001b[1;33m.\u001b[0m\u001b[0mindex\u001b[0m\u001b[1;33m)\u001b[0m\u001b[1;33m\u001b[0m\u001b[1;33m\u001b[0m\u001b[0m\n\u001b[0m",
      "\u001b[1;32m~\\anaconda3\\lib\\site-packages\\seaborn\\_decorators.py\u001b[0m in \u001b[0;36minner_f\u001b[1;34m(*args, **kwargs)\u001b[0m\n\u001b[0;32m     44\u001b[0m             )\n\u001b[0;32m     45\u001b[0m         \u001b[0mkwargs\u001b[0m\u001b[1;33m.\u001b[0m\u001b[0mupdate\u001b[0m\u001b[1;33m(\u001b[0m\u001b[1;33m{\u001b[0m\u001b[0mk\u001b[0m\u001b[1;33m:\u001b[0m \u001b[0marg\u001b[0m \u001b[1;32mfor\u001b[0m \u001b[0mk\u001b[0m\u001b[1;33m,\u001b[0m \u001b[0marg\u001b[0m \u001b[1;32min\u001b[0m \u001b[0mzip\u001b[0m\u001b[1;33m(\u001b[0m\u001b[0msig\u001b[0m\u001b[1;33m.\u001b[0m\u001b[0mparameters\u001b[0m\u001b[1;33m,\u001b[0m \u001b[0margs\u001b[0m\u001b[1;33m)\u001b[0m\u001b[1;33m}\u001b[0m\u001b[1;33m)\u001b[0m\u001b[1;33m\u001b[0m\u001b[1;33m\u001b[0m\u001b[0m\n\u001b[1;32m---> 46\u001b[1;33m         \u001b[1;32mreturn\u001b[0m \u001b[0mf\u001b[0m\u001b[1;33m(\u001b[0m\u001b[1;33m**\u001b[0m\u001b[0mkwargs\u001b[0m\u001b[1;33m)\u001b[0m\u001b[1;33m\u001b[0m\u001b[1;33m\u001b[0m\u001b[0m\n\u001b[0m\u001b[0;32m     47\u001b[0m     \u001b[1;32mreturn\u001b[0m \u001b[0minner_f\u001b[0m\u001b[1;33m\u001b[0m\u001b[1;33m\u001b[0m\u001b[0m\n\u001b[0;32m     48\u001b[0m \u001b[1;33m\u001b[0m\u001b[0m\n",
      "\u001b[1;32m~\\anaconda3\\lib\\site-packages\\seaborn\\categorical.py\u001b[0m in \u001b[0;36mbarplot\u001b[1;34m(x, y, hue, data, order, hue_order, estimator, ci, n_boot, units, seed, orient, color, palette, saturation, errcolor, errwidth, capsize, dodge, ax, **kwargs)\u001b[0m\n\u001b[0;32m   3167\u001b[0m ):\n\u001b[0;32m   3168\u001b[0m \u001b[1;33m\u001b[0m\u001b[0m\n\u001b[1;32m-> 3169\u001b[1;33m     plotter = _BarPlotter(x, y, hue, data, order, hue_order,\n\u001b[0m\u001b[0;32m   3170\u001b[0m                           \u001b[0mestimator\u001b[0m\u001b[1;33m,\u001b[0m \u001b[0mci\u001b[0m\u001b[1;33m,\u001b[0m \u001b[0mn_boot\u001b[0m\u001b[1;33m,\u001b[0m \u001b[0munits\u001b[0m\u001b[1;33m,\u001b[0m \u001b[0mseed\u001b[0m\u001b[1;33m,\u001b[0m\u001b[1;33m\u001b[0m\u001b[1;33m\u001b[0m\u001b[0m\n\u001b[0;32m   3171\u001b[0m                           \u001b[0morient\u001b[0m\u001b[1;33m,\u001b[0m \u001b[0mcolor\u001b[0m\u001b[1;33m,\u001b[0m \u001b[0mpalette\u001b[0m\u001b[1;33m,\u001b[0m \u001b[0msaturation\u001b[0m\u001b[1;33m,\u001b[0m\u001b[1;33m\u001b[0m\u001b[1;33m\u001b[0m\u001b[0m\n",
      "\u001b[1;32m~\\anaconda3\\lib\\site-packages\\seaborn\\categorical.py\u001b[0m in \u001b[0;36m__init__\u001b[1;34m(self, x, y, hue, data, order, hue_order, estimator, ci, n_boot, units, seed, orient, color, palette, saturation, errcolor, errwidth, capsize, dodge)\u001b[0m\n\u001b[0;32m   1582\u001b[0m                  errwidth, capsize, dodge):\n\u001b[0;32m   1583\u001b[0m         \u001b[1;34m\"\"\"Initialize the plotter.\"\"\"\u001b[0m\u001b[1;33m\u001b[0m\u001b[1;33m\u001b[0m\u001b[0m\n\u001b[1;32m-> 1584\u001b[1;33m         self.establish_variables(x, y, hue, data, orient,\n\u001b[0m\u001b[0;32m   1585\u001b[0m                                  order, hue_order, units)\n\u001b[0;32m   1586\u001b[0m         \u001b[0mself\u001b[0m\u001b[1;33m.\u001b[0m\u001b[0mestablish_colors\u001b[0m\u001b[1;33m(\u001b[0m\u001b[0mcolor\u001b[0m\u001b[1;33m,\u001b[0m \u001b[0mpalette\u001b[0m\u001b[1;33m,\u001b[0m \u001b[0msaturation\u001b[0m\u001b[1;33m)\u001b[0m\u001b[1;33m\u001b[0m\u001b[1;33m\u001b[0m\u001b[0m\n",
      "\u001b[1;32m~\\anaconda3\\lib\\site-packages\\seaborn\\categorical.py\u001b[0m in \u001b[0;36mestablish_variables\u001b[1;34m(self, x, y, hue, data, orient, order, hue_order, units)\u001b[0m\n\u001b[0;32m    204\u001b[0m \u001b[1;33m\u001b[0m\u001b[0m\n\u001b[0;32m    205\u001b[0m                 \u001b[1;31m# Group the numeric data\u001b[0m\u001b[1;33m\u001b[0m\u001b[1;33m\u001b[0m\u001b[1;33m\u001b[0m\u001b[0m\n\u001b[1;32m--> 206\u001b[1;33m                 plot_data, value_label = self._group_longform(vals, groups,\n\u001b[0m\u001b[0;32m    207\u001b[0m                                                               group_names)\n\u001b[0;32m    208\u001b[0m \u001b[1;33m\u001b[0m\u001b[0m\n",
      "\u001b[1;32m~\\anaconda3\\lib\\site-packages\\seaborn\\categorical.py\u001b[0m in \u001b[0;36m_group_longform\u001b[1;34m(self, vals, grouper, order)\u001b[0m\n\u001b[0;32m    248\u001b[0m             \u001b[1;32melse\u001b[0m\u001b[1;33m:\u001b[0m\u001b[1;33m\u001b[0m\u001b[1;33m\u001b[0m\u001b[0m\n\u001b[0;32m    249\u001b[0m                 \u001b[0mindex\u001b[0m \u001b[1;33m=\u001b[0m \u001b[1;32mNone\u001b[0m\u001b[1;33m\u001b[0m\u001b[1;33m\u001b[0m\u001b[0m\n\u001b[1;32m--> 250\u001b[1;33m             \u001b[0mvals\u001b[0m \u001b[1;33m=\u001b[0m \u001b[0mpd\u001b[0m\u001b[1;33m.\u001b[0m\u001b[0mSeries\u001b[0m\u001b[1;33m(\u001b[0m\u001b[0mvals\u001b[0m\u001b[1;33m,\u001b[0m \u001b[0mindex\u001b[0m\u001b[1;33m=\u001b[0m\u001b[0mindex\u001b[0m\u001b[1;33m)\u001b[0m\u001b[1;33m\u001b[0m\u001b[1;33m\u001b[0m\u001b[0m\n\u001b[0m\u001b[0;32m    251\u001b[0m \u001b[1;33m\u001b[0m\u001b[0m\n\u001b[0;32m    252\u001b[0m         \u001b[1;31m# Group the val data\u001b[0m\u001b[1;33m\u001b[0m\u001b[1;33m\u001b[0m\u001b[1;33m\u001b[0m\u001b[0m\n",
      "\u001b[1;32m~\\anaconda3\\lib\\site-packages\\pandas\\core\\series.py\u001b[0m in \u001b[0;36m__init__\u001b[1;34m(self, data, index, dtype, name, copy, fastpath)\u001b[0m\n\u001b[0;32m    325\u001b[0m                     \u001b[0mdata\u001b[0m \u001b[1;33m=\u001b[0m \u001b[0mdata\u001b[0m\u001b[1;33m.\u001b[0m\u001b[0mcopy\u001b[0m\u001b[1;33m(\u001b[0m\u001b[1;33m)\u001b[0m\u001b[1;33m\u001b[0m\u001b[1;33m\u001b[0m\u001b[0m\n\u001b[0;32m    326\u001b[0m             \u001b[1;32melse\u001b[0m\u001b[1;33m:\u001b[0m\u001b[1;33m\u001b[0m\u001b[1;33m\u001b[0m\u001b[0m\n\u001b[1;32m--> 327\u001b[1;33m                 \u001b[0mdata\u001b[0m \u001b[1;33m=\u001b[0m \u001b[0msanitize_array\u001b[0m\u001b[1;33m(\u001b[0m\u001b[0mdata\u001b[0m\u001b[1;33m,\u001b[0m \u001b[0mindex\u001b[0m\u001b[1;33m,\u001b[0m \u001b[0mdtype\u001b[0m\u001b[1;33m,\u001b[0m \u001b[0mcopy\u001b[0m\u001b[1;33m,\u001b[0m \u001b[0mraise_cast_failure\u001b[0m\u001b[1;33m=\u001b[0m\u001b[1;32mTrue\u001b[0m\u001b[1;33m)\u001b[0m\u001b[1;33m\u001b[0m\u001b[1;33m\u001b[0m\u001b[0m\n\u001b[0m\u001b[0;32m    328\u001b[0m \u001b[1;33m\u001b[0m\u001b[0m\n\u001b[0;32m    329\u001b[0m                 \u001b[0mdata\u001b[0m \u001b[1;33m=\u001b[0m \u001b[0mSingleBlockManager\u001b[0m\u001b[1;33m.\u001b[0m\u001b[0mfrom_array\u001b[0m\u001b[1;33m(\u001b[0m\u001b[0mdata\u001b[0m\u001b[1;33m,\u001b[0m \u001b[0mindex\u001b[0m\u001b[1;33m)\u001b[0m\u001b[1;33m\u001b[0m\u001b[1;33m\u001b[0m\u001b[0m\n",
      "\u001b[1;32m~\\anaconda3\\lib\\site-packages\\pandas\\core\\construction.py\u001b[0m in \u001b[0;36msanitize_array\u001b[1;34m(data, index, dtype, copy, raise_cast_failure)\u001b[0m\n\u001b[0;32m    494\u001b[0m     \u001b[1;32melif\u001b[0m \u001b[0msubarr\u001b[0m\u001b[1;33m.\u001b[0m\u001b[0mndim\u001b[0m \u001b[1;33m>\u001b[0m \u001b[1;36m1\u001b[0m\u001b[1;33m:\u001b[0m\u001b[1;33m\u001b[0m\u001b[1;33m\u001b[0m\u001b[0m\n\u001b[0;32m    495\u001b[0m         \u001b[1;32mif\u001b[0m \u001b[0misinstance\u001b[0m\u001b[1;33m(\u001b[0m\u001b[0mdata\u001b[0m\u001b[1;33m,\u001b[0m \u001b[0mnp\u001b[0m\u001b[1;33m.\u001b[0m\u001b[0mndarray\u001b[0m\u001b[1;33m)\u001b[0m\u001b[1;33m:\u001b[0m\u001b[1;33m\u001b[0m\u001b[1;33m\u001b[0m\u001b[0m\n\u001b[1;32m--> 496\u001b[1;33m             \u001b[1;32mraise\u001b[0m \u001b[0mException\u001b[0m\u001b[1;33m(\u001b[0m\u001b[1;34m\"Data must be 1-dimensional\"\u001b[0m\u001b[1;33m)\u001b[0m\u001b[1;33m\u001b[0m\u001b[1;33m\u001b[0m\u001b[0m\n\u001b[0m\u001b[0;32m    497\u001b[0m         \u001b[1;32melse\u001b[0m\u001b[1;33m:\u001b[0m\u001b[1;33m\u001b[0m\u001b[1;33m\u001b[0m\u001b[0m\n\u001b[0;32m    498\u001b[0m             \u001b[0msubarr\u001b[0m \u001b[1;33m=\u001b[0m \u001b[0mcom\u001b[0m\u001b[1;33m.\u001b[0m\u001b[0masarray_tuplesafe\u001b[0m\u001b[1;33m(\u001b[0m\u001b[0mdata\u001b[0m\u001b[1;33m,\u001b[0m \u001b[0mdtype\u001b[0m\u001b[1;33m=\u001b[0m\u001b[0mdtype\u001b[0m\u001b[1;33m)\u001b[0m\u001b[1;33m\u001b[0m\u001b[1;33m\u001b[0m\u001b[0m\n",
      "\u001b[1;31mException\u001b[0m: Data must be 1-dimensional"
     ]
    }
   ],
   "source": [
    "sns.barplot(x = chart[:20].values, y = chart[:20].index)"
   ]
  },
  {
   "cell_type": "code",
   "execution_count": 224,
   "metadata": {},
   "outputs": [
    {
     "output_type": "execute_result",
     "data": {
      "text/plain": [
       "Index(['tGravityAcc-min()-X', 'fBodyAccJerk-bandsEnergy()-1,16_1',\n",
       "       'angle(Y,gravityMean)', 'fBodyAccMag-energy()',\n",
       "       'tGravityAcc-arCoeff()-Z,2', 'fBodyGyro-maxInds-X',\n",
       "       'tBodyGyro-correlation()-Y,Z', 'tGravityAcc-energy()-Y',\n",
       "       'tBodyAccMag-arCoeff()1', 'tBodyGyro-max()-X',\n",
       "       'tBodyAcc-correlation()-X,Y', 'fBodyAcc-max()-Y', 'tGravityAcc-max()-Y',\n",
       "       'tGravityAcc-mean()-Y', 'fBodyGyro-max()-X', 'tBodyGyro-min()-X',\n",
       "       'tBodyAccJerk-correlation()-X,Y', 'tBodyGyroJerk-max()-X',\n",
       "       'tGravityAccMag-arCoeff()1', 'tGravityAcc-arCoeff()-Y,3'],\n",
       "      dtype='object')"
      ]
     },
     "metadata": {},
     "execution_count": 224
    }
   ],
   "source": [
    "chart[:20].index"
   ]
  },
  {
   "cell_type": "code",
   "execution_count": 226,
   "metadata": {},
   "outputs": [
    {
     "output_type": "execute_result",
     "data": {
      "text/plain": [
       "array([[0.24767659],\n",
       "       [0.2078194 ],\n",
       "       [0.13723939],\n",
       "       [0.11289052],\n",
       "       [0.09927213],\n",
       "       [0.02343368],\n",
       "       [0.01683346],\n",
       "       [0.01606515],\n",
       "       [0.0123295 ],\n",
       "       [0.00896362],\n",
       "       [0.00881301],\n",
       "       [0.0086268 ],\n",
       "       [0.00614936],\n",
       "       [0.00524993],\n",
       "       [0.00512918],\n",
       "       [0.00427487],\n",
       "       [0.00387784],\n",
       "       [0.00339332],\n",
       "       [0.00305895],\n",
       "       [0.00295676]])"
      ]
     },
     "metadata": {},
     "execution_count": 226
    }
   ],
   "source": [
    "chart[:20].values"
   ]
  },
  {
   "cell_type": "code",
   "execution_count": null,
   "metadata": {},
   "outputs": [],
   "source": []
  }
 ]
}