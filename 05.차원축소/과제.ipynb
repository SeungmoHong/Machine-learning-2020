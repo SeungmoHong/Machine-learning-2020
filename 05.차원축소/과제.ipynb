{
 "metadata": {
  "language_info": {
   "codemirror_mode": {
    "name": "ipython",
    "version": 3
   },
   "file_extension": ".py",
   "mimetype": "text/x-python",
   "name": "python",
   "nbconvert_exporter": "python",
   "pygments_lexer": "ipython3",
   "version": "3.8.5-final"
  },
  "orig_nbformat": 2,
  "kernelspec": {
   "name": "python3",
   "display_name": "Python 3",
   "language": "python"
  }
 },
 "nbformat": 4,
 "nbformat_minor": 2,
 "cells": [
  {
   "source": [
    "#  유방암 데이터 셋을 차원축소하기"
   ],
   "cell_type": "markdown",
   "metadata": {}
  },
  {
   "cell_type": "code",
   "execution_count": 76,
   "metadata": {},
   "outputs": [],
   "source": [
    "import pandas as pd \n",
    "import numpy as np\n",
    "import matplotlib.pylab as plt\n",
    "import seaborn as sns\n",
    "%matplotlib inline"
   ]
  },
  {
   "cell_type": "code",
   "execution_count": 77,
   "metadata": {},
   "outputs": [],
   "source": [
    "from sklearn.datasets import load_breast_cancer\n",
    "cancer = load_breast_cancer()\n",
    "df = pd.DataFrame(cancer.data, columns=cancer.feature_names)"
   ]
  },
  {
   "cell_type": "code",
   "execution_count": 78,
   "metadata": {},
   "outputs": [
    {
     "output_type": "execute_result",
     "data": {
      "text/plain": [
       "   mean radius  mean texture  mean perimeter  mean area  mean smoothness  \\\n",
       "0        17.99         10.38          122.80     1001.0          0.11840   \n",
       "1        20.57         17.77          132.90     1326.0          0.08474   \n",
       "2        19.69         21.25          130.00     1203.0          0.10960   \n",
       "3        11.42         20.38           77.58      386.1          0.14250   \n",
       "4        20.29         14.34          135.10     1297.0          0.10030   \n",
       "\n",
       "   mean compactness  mean concavity  mean concave points  mean symmetry  \\\n",
       "0           0.27760          0.3001              0.14710         0.2419   \n",
       "1           0.07864          0.0869              0.07017         0.1812   \n",
       "2           0.15990          0.1974              0.12790         0.2069   \n",
       "3           0.28390          0.2414              0.10520         0.2597   \n",
       "4           0.13280          0.1980              0.10430         0.1809   \n",
       "\n",
       "   mean fractal dimension  ...  worst radius  worst texture  worst perimeter  \\\n",
       "0                 0.07871  ...         25.38          17.33           184.60   \n",
       "1                 0.05667  ...         24.99          23.41           158.80   \n",
       "2                 0.05999  ...         23.57          25.53           152.50   \n",
       "3                 0.09744  ...         14.91          26.50            98.87   \n",
       "4                 0.05883  ...         22.54          16.67           152.20   \n",
       "\n",
       "   worst area  worst smoothness  worst compactness  worst concavity  \\\n",
       "0      2019.0            0.1622             0.6656           0.7119   \n",
       "1      1956.0            0.1238             0.1866           0.2416   \n",
       "2      1709.0            0.1444             0.4245           0.4504   \n",
       "3       567.7            0.2098             0.8663           0.6869   \n",
       "4      1575.0            0.1374             0.2050           0.4000   \n",
       "\n",
       "   worst concave points  worst symmetry  worst fractal dimension  \n",
       "0                0.2654          0.4601                  0.11890  \n",
       "1                0.1860          0.2750                  0.08902  \n",
       "2                0.2430          0.3613                  0.08758  \n",
       "3                0.2575          0.6638                  0.17300  \n",
       "4                0.1625          0.2364                  0.07678  \n",
       "\n",
       "[5 rows x 30 columns]"
      ],
      "text/html": "<div>\n<style scoped>\n    .dataframe tbody tr th:only-of-type {\n        vertical-align: middle;\n    }\n\n    .dataframe tbody tr th {\n        vertical-align: top;\n    }\n\n    .dataframe thead th {\n        text-align: right;\n    }\n</style>\n<table border=\"1\" class=\"dataframe\">\n  <thead>\n    <tr style=\"text-align: right;\">\n      <th></th>\n      <th>mean radius</th>\n      <th>mean texture</th>\n      <th>mean perimeter</th>\n      <th>mean area</th>\n      <th>mean smoothness</th>\n      <th>mean compactness</th>\n      <th>mean concavity</th>\n      <th>mean concave points</th>\n      <th>mean symmetry</th>\n      <th>mean fractal dimension</th>\n      <th>...</th>\n      <th>worst radius</th>\n      <th>worst texture</th>\n      <th>worst perimeter</th>\n      <th>worst area</th>\n      <th>worst smoothness</th>\n      <th>worst compactness</th>\n      <th>worst concavity</th>\n      <th>worst concave points</th>\n      <th>worst symmetry</th>\n      <th>worst fractal dimension</th>\n    </tr>\n  </thead>\n  <tbody>\n    <tr>\n      <th>0</th>\n      <td>17.99</td>\n      <td>10.38</td>\n      <td>122.80</td>\n      <td>1001.0</td>\n      <td>0.11840</td>\n      <td>0.27760</td>\n      <td>0.3001</td>\n      <td>0.14710</td>\n      <td>0.2419</td>\n      <td>0.07871</td>\n      <td>...</td>\n      <td>25.38</td>\n      <td>17.33</td>\n      <td>184.60</td>\n      <td>2019.0</td>\n      <td>0.1622</td>\n      <td>0.6656</td>\n      <td>0.7119</td>\n      <td>0.2654</td>\n      <td>0.4601</td>\n      <td>0.11890</td>\n    </tr>\n    <tr>\n      <th>1</th>\n      <td>20.57</td>\n      <td>17.77</td>\n      <td>132.90</td>\n      <td>1326.0</td>\n      <td>0.08474</td>\n      <td>0.07864</td>\n      <td>0.0869</td>\n      <td>0.07017</td>\n      <td>0.1812</td>\n      <td>0.05667</td>\n      <td>...</td>\n      <td>24.99</td>\n      <td>23.41</td>\n      <td>158.80</td>\n      <td>1956.0</td>\n      <td>0.1238</td>\n      <td>0.1866</td>\n      <td>0.2416</td>\n      <td>0.1860</td>\n      <td>0.2750</td>\n      <td>0.08902</td>\n    </tr>\n    <tr>\n      <th>2</th>\n      <td>19.69</td>\n      <td>21.25</td>\n      <td>130.00</td>\n      <td>1203.0</td>\n      <td>0.10960</td>\n      <td>0.15990</td>\n      <td>0.1974</td>\n      <td>0.12790</td>\n      <td>0.2069</td>\n      <td>0.05999</td>\n      <td>...</td>\n      <td>23.57</td>\n      <td>25.53</td>\n      <td>152.50</td>\n      <td>1709.0</td>\n      <td>0.1444</td>\n      <td>0.4245</td>\n      <td>0.4504</td>\n      <td>0.2430</td>\n      <td>0.3613</td>\n      <td>0.08758</td>\n    </tr>\n    <tr>\n      <th>3</th>\n      <td>11.42</td>\n      <td>20.38</td>\n      <td>77.58</td>\n      <td>386.1</td>\n      <td>0.14250</td>\n      <td>0.28390</td>\n      <td>0.2414</td>\n      <td>0.10520</td>\n      <td>0.2597</td>\n      <td>0.09744</td>\n      <td>...</td>\n      <td>14.91</td>\n      <td>26.50</td>\n      <td>98.87</td>\n      <td>567.7</td>\n      <td>0.2098</td>\n      <td>0.8663</td>\n      <td>0.6869</td>\n      <td>0.2575</td>\n      <td>0.6638</td>\n      <td>0.17300</td>\n    </tr>\n    <tr>\n      <th>4</th>\n      <td>20.29</td>\n      <td>14.34</td>\n      <td>135.10</td>\n      <td>1297.0</td>\n      <td>0.10030</td>\n      <td>0.13280</td>\n      <td>0.1980</td>\n      <td>0.10430</td>\n      <td>0.1809</td>\n      <td>0.05883</td>\n      <td>...</td>\n      <td>22.54</td>\n      <td>16.67</td>\n      <td>152.20</td>\n      <td>1575.0</td>\n      <td>0.1374</td>\n      <td>0.2050</td>\n      <td>0.4000</td>\n      <td>0.1625</td>\n      <td>0.2364</td>\n      <td>0.07678</td>\n    </tr>\n  </tbody>\n</table>\n<p>5 rows × 30 columns</p>\n</div>"
     },
     "metadata": {},
     "execution_count": 78
    }
   ],
   "source": [
    "df.head()"
   ]
  },
  {
   "cell_type": "code",
   "execution_count": 79,
   "metadata": {},
   "outputs": [
    {
     "output_type": "execute_result",
     "data": {
      "text/plain": [
       "array([0, 0, 0, 0, 0])"
      ]
     },
     "metadata": {},
     "execution_count": 79
    }
   ],
   "source": [
    "cancer.target[:5] "
   ]
  },
  {
   "cell_type": "code",
   "execution_count": 80,
   "metadata": {},
   "outputs": [
    {
     "output_type": "execute_result",
     "data": {
      "text/plain": [
       "array(['malignant', 'benign'], dtype='<U9')"
      ]
     },
     "metadata": {},
     "execution_count": 80
    }
   ],
   "source": [
    "# malignant = 악성 , benign = 양성\n",
    "cancer.target_names"
   ]
  },
  {
   "source": [
    "### 정규화"
   ],
   "cell_type": "markdown",
   "metadata": {}
  },
  {
   "cell_type": "code",
   "execution_count": 81,
   "metadata": {},
   "outputs": [],
   "source": [
    "from sklearn.preprocessing import StandardScaler\n",
    "scaler = StandardScaler()\n",
    "cancer_std = scaler.fit_transform(cancer.data)"
   ]
  },
  {
   "source": [
    "### PCA 변환 (10개의 차원)"
   ],
   "cell_type": "markdown",
   "metadata": {}
  },
  {
   "cell_type": "code",
   "execution_count": 82,
   "metadata": {},
   "outputs": [],
   "source": [
    "from sklearn.decomposition import PCA\n",
    "pca = PCA(n_components=10)"
   ]
  },
  {
   "cell_type": "code",
   "execution_count": 83,
   "metadata": {},
   "outputs": [
    {
     "output_type": "execute_result",
     "data": {
      "text/plain": [
       "array([[ 9.19283683,  1.94858307, -1.12316616,  3.6337309 , -1.19511012,\n",
       "         1.4114244 ,  2.15936937, -0.39840799, -0.15711654, -0.87739516],\n",
       "       [ 2.3878018 , -3.76817174, -0.52929269,  1.11826386,  0.62177497,\n",
       "         0.02865637,  0.01335778,  0.24099012, -0.71190342,  1.10700324],\n",
       "       [ 5.73389628, -1.0751738 , -0.5517476 ,  0.91208267, -0.17708591,\n",
       "         0.54145236, -0.66816373,  0.09737466,  0.02405846,  0.45424149],\n",
       "       [ 7.1229532 , 10.27558912, -3.23278956,  0.15254704, -2.96087843,\n",
       "         3.05342215,  1.42991444,  1.05956798, -1.40544908, -1.11701554],\n",
       "       [ 3.93530207, -1.94807157,  1.38976673,  2.94063935,  0.54674741,\n",
       "        -1.22649473, -0.93621367,  0.63637577, -0.263803  ,  0.37771848]])"
      ]
     },
     "metadata": {},
     "execution_count": 83
    }
   ],
   "source": [
    "cancer_pca = pca.fit_transform(cancer_std)\n",
    "cancer_pca[:5]"
   ]
  },
  {
   "cell_type": "code",
   "execution_count": 84,
   "metadata": {},
   "outputs": [
    {
     "output_type": "execute_result",
     "data": {
      "text/plain": [
       "        PC1        PC2       PC3       PC4       PC5       PC6       PC7  \\\n",
       "0  9.192837   1.948583 -1.123166  3.633731 -1.195110  1.411424  2.159369   \n",
       "1  2.387802  -3.768172 -0.529293  1.118264  0.621775  0.028656  0.013358   \n",
       "2  5.733896  -1.075174 -0.551748  0.912083 -0.177086  0.541452 -0.668164   \n",
       "3  7.122953  10.275589 -3.232790  0.152547 -2.960878  3.053422  1.429914   \n",
       "4  3.935302  -1.948072  1.389767  2.940639  0.546747 -1.226495 -0.936214   \n",
       "\n",
       "        PC8       PC9      PC10  target  \n",
       "0 -0.398408 -0.157117 -0.877395       0  \n",
       "1  0.240990 -0.711903  1.107003       0  \n",
       "2  0.097375  0.024058  0.454241       0  \n",
       "3  1.059568 -1.405449 -1.117016       0  \n",
       "4  0.636376 -0.263803  0.377718       0  "
      ],
      "text/html": "<div>\n<style scoped>\n    .dataframe tbody tr th:only-of-type {\n        vertical-align: middle;\n    }\n\n    .dataframe tbody tr th {\n        vertical-align: top;\n    }\n\n    .dataframe thead th {\n        text-align: right;\n    }\n</style>\n<table border=\"1\" class=\"dataframe\">\n  <thead>\n    <tr style=\"text-align: right;\">\n      <th></th>\n      <th>PC1</th>\n      <th>PC2</th>\n      <th>PC3</th>\n      <th>PC4</th>\n      <th>PC5</th>\n      <th>PC6</th>\n      <th>PC7</th>\n      <th>PC8</th>\n      <th>PC9</th>\n      <th>PC10</th>\n      <th>target</th>\n    </tr>\n  </thead>\n  <tbody>\n    <tr>\n      <th>0</th>\n      <td>9.192837</td>\n      <td>1.948583</td>\n      <td>-1.123166</td>\n      <td>3.633731</td>\n      <td>-1.195110</td>\n      <td>1.411424</td>\n      <td>2.159369</td>\n      <td>-0.398408</td>\n      <td>-0.157117</td>\n      <td>-0.877395</td>\n      <td>0</td>\n    </tr>\n    <tr>\n      <th>1</th>\n      <td>2.387802</td>\n      <td>-3.768172</td>\n      <td>-0.529293</td>\n      <td>1.118264</td>\n      <td>0.621775</td>\n      <td>0.028656</td>\n      <td>0.013358</td>\n      <td>0.240990</td>\n      <td>-0.711903</td>\n      <td>1.107003</td>\n      <td>0</td>\n    </tr>\n    <tr>\n      <th>2</th>\n      <td>5.733896</td>\n      <td>-1.075174</td>\n      <td>-0.551748</td>\n      <td>0.912083</td>\n      <td>-0.177086</td>\n      <td>0.541452</td>\n      <td>-0.668164</td>\n      <td>0.097375</td>\n      <td>0.024058</td>\n      <td>0.454241</td>\n      <td>0</td>\n    </tr>\n    <tr>\n      <th>3</th>\n      <td>7.122953</td>\n      <td>10.275589</td>\n      <td>-3.232790</td>\n      <td>0.152547</td>\n      <td>-2.960878</td>\n      <td>3.053422</td>\n      <td>1.429914</td>\n      <td>1.059568</td>\n      <td>-1.405449</td>\n      <td>-1.117016</td>\n      <td>0</td>\n    </tr>\n    <tr>\n      <th>4</th>\n      <td>3.935302</td>\n      <td>-1.948072</td>\n      <td>1.389767</td>\n      <td>2.940639</td>\n      <td>0.546747</td>\n      <td>-1.226495</td>\n      <td>-0.936214</td>\n      <td>0.636376</td>\n      <td>-0.263803</td>\n      <td>0.377718</td>\n      <td>0</td>\n    </tr>\n  </tbody>\n</table>\n</div>"
     },
     "metadata": {},
     "execution_count": 84
    }
   ],
   "source": [
    "cancer_pca_df = pd.DataFrame(cancer_pca, columns=['PC1','PC2','PC3','PC4','PC5','PC6','PC7','PC8','PC9','PC10'])\n",
    "cancer_pca_df['target'] = cancer.target\n",
    "cancer_pca_df.head()"
   ]
  },
  {
   "source": [
    "### 분류"
   ],
   "cell_type": "markdown",
   "metadata": {}
  },
  {
   "cell_type": "code",
   "execution_count": 85,
   "metadata": {},
   "outputs": [],
   "source": [
    "from sklearn.tree import DecisionTreeClassifier\n",
    "from sklearn.model_selection import train_test_split\n",
    "from sklearn.metrics import accuracy_score"
   ]
  },
  {
   "cell_type": "code",
   "execution_count": 86,
   "metadata": {},
   "outputs": [],
   "source": [
    "X_train, X_test, y_train, y_test = train_test_split(\n",
    "    cancer_pca, cancer.target, stratify=cancer.target, test_size = 0.2, random_state=2021\n",
    ")"
   ]
  },
  {
   "source": [
    "### 평가"
   ],
   "cell_type": "markdown",
   "metadata": {}
  },
  {
   "cell_type": "code",
   "execution_count": 87,
   "metadata": {},
   "outputs": [
    {
     "output_type": "stream",
     "name": "stdout",
     "text": [
      "분류 정확도:  0.9912280701754386\n"
     ]
    }
   ],
   "source": [
    "dtc = DecisionTreeClassifier(random_state=2021)\n",
    "dtc.fit(X_train,y_train)\n",
    "pred = dtc.predict(X_test)\n",
    "print('분류 정확도: ', accuracy_score(y_test, pred))"
   ]
  },
  {
   "source": [
    "### PCA 변환 (5개의 차원)"
   ],
   "cell_type": "markdown",
   "metadata": {}
  },
  {
   "cell_type": "code",
   "execution_count": 88,
   "metadata": {},
   "outputs": [],
   "source": [
    "pca = PCA(n_components=5)"
   ]
  },
  {
   "cell_type": "code",
   "execution_count": 89,
   "metadata": {},
   "outputs": [
    {
     "output_type": "execute_result",
     "data": {
      "text/plain": [
       "array([[ 9.19283683,  1.94858309, -1.12316578,  3.63372951, -1.1951119 ],\n",
       "       [ 2.3878018 , -3.76817176, -0.529293  ,  1.11826501,  0.62177692],\n",
       "       [ 5.73389628, -1.07517379, -0.55174744,  0.91208206, -0.17708661],\n",
       "       [ 7.1229532 , 10.27558911, -3.23278985,  0.1525479 , -2.96087994],\n",
       "       [ 3.93530207, -1.94807157,  1.3897666 ,  2.94063979,  0.54674699]])"
      ]
     },
     "metadata": {},
     "execution_count": 89
    }
   ],
   "source": [
    "cancer_pca = pca.fit_transform(cancer_std)\n",
    "cancer_pca[:5]"
   ]
  },
  {
   "cell_type": "code",
   "execution_count": 90,
   "metadata": {},
   "outputs": [
    {
     "output_type": "execute_result",
     "data": {
      "text/plain": [
       "        PC1        PC2       PC3       PC4       PC5  target\n",
       "0  9.192837   1.948583 -1.123166  3.633730 -1.195112       0\n",
       "1  2.387802  -3.768172 -0.529293  1.118265  0.621777       0\n",
       "2  5.733896  -1.075174 -0.551747  0.912082 -0.177087       0\n",
       "3  7.122953  10.275589 -3.232790  0.152548 -2.960880       0\n",
       "4  3.935302  -1.948072  1.389767  2.940640  0.546747       0"
      ],
      "text/html": "<div>\n<style scoped>\n    .dataframe tbody tr th:only-of-type {\n        vertical-align: middle;\n    }\n\n    .dataframe tbody tr th {\n        vertical-align: top;\n    }\n\n    .dataframe thead th {\n        text-align: right;\n    }\n</style>\n<table border=\"1\" class=\"dataframe\">\n  <thead>\n    <tr style=\"text-align: right;\">\n      <th></th>\n      <th>PC1</th>\n      <th>PC2</th>\n      <th>PC3</th>\n      <th>PC4</th>\n      <th>PC5</th>\n      <th>target</th>\n    </tr>\n  </thead>\n  <tbody>\n    <tr>\n      <th>0</th>\n      <td>9.192837</td>\n      <td>1.948583</td>\n      <td>-1.123166</td>\n      <td>3.633730</td>\n      <td>-1.195112</td>\n      <td>0</td>\n    </tr>\n    <tr>\n      <th>1</th>\n      <td>2.387802</td>\n      <td>-3.768172</td>\n      <td>-0.529293</td>\n      <td>1.118265</td>\n      <td>0.621777</td>\n      <td>0</td>\n    </tr>\n    <tr>\n      <th>2</th>\n      <td>5.733896</td>\n      <td>-1.075174</td>\n      <td>-0.551747</td>\n      <td>0.912082</td>\n      <td>-0.177087</td>\n      <td>0</td>\n    </tr>\n    <tr>\n      <th>3</th>\n      <td>7.122953</td>\n      <td>10.275589</td>\n      <td>-3.232790</td>\n      <td>0.152548</td>\n      <td>-2.960880</td>\n      <td>0</td>\n    </tr>\n    <tr>\n      <th>4</th>\n      <td>3.935302</td>\n      <td>-1.948072</td>\n      <td>1.389767</td>\n      <td>2.940640</td>\n      <td>0.546747</td>\n      <td>0</td>\n    </tr>\n  </tbody>\n</table>\n</div>"
     },
     "metadata": {},
     "execution_count": 90
    }
   ],
   "source": [
    "cancer_pca_df = pd.DataFrame(cancer_pca, columns=['PC1','PC2','PC3','PC4','PC5'])\n",
    "cancer_pca_df['target'] = cancer.target\n",
    "cancer_pca_df.head()"
   ]
  },
  {
   "cell_type": "code",
   "execution_count": 91,
   "metadata": {},
   "outputs": [],
   "source": [
    "X_train, X_test, y_train, y_test = train_test_split(\n",
    "    cancer_pca, cancer.target, stratify=cancer.target, test_size = 0.2, random_state=2021\n",
    ")"
   ]
  },
  {
   "cell_type": "code",
   "execution_count": 92,
   "metadata": {},
   "outputs": [
    {
     "output_type": "stream",
     "name": "stdout",
     "text": [
      "분류 정확도:  0.9649122807017544\n"
     ]
    }
   ],
   "source": [
    "dtc = DecisionTreeClassifier(random_state=2021)\n",
    "dtc.fit(X_train,y_train)\n",
    "pred = dtc.predict(X_test)\n",
    "print('분류 정확도: ', accuracy_score(y_test, pred))"
   ]
  },
  {
   "source": [
    "### PCA 변환 (2개의 차원)"
   ],
   "cell_type": "markdown",
   "metadata": {}
  },
  {
   "cell_type": "code",
   "execution_count": 93,
   "metadata": {},
   "outputs": [
    {
     "output_type": "execute_result",
     "data": {
      "text/plain": [
       "array([[ 9.19283683,  1.94858307],\n",
       "       [ 2.3878018 , -3.76817174],\n",
       "       [ 5.73389628, -1.0751738 ],\n",
       "       [ 7.1229532 , 10.27558912],\n",
       "       [ 3.93530207, -1.94807157]])"
      ]
     },
     "metadata": {},
     "execution_count": 93
    }
   ],
   "source": [
    "pca = PCA(n_components=2)\n",
    "cancer_pca = pca.fit_transform(cancer_std)\n",
    "cancer_pca[:5]"
   ]
  },
  {
   "cell_type": "code",
   "execution_count": 94,
   "metadata": {},
   "outputs": [
    {
     "output_type": "execute_result",
     "data": {
      "text/plain": [
       "        PC1        PC2  target\n",
       "0  9.192837   1.948583       0\n",
       "1  2.387802  -3.768172       0\n",
       "2  5.733896  -1.075174       0\n",
       "3  7.122953  10.275589       0\n",
       "4  3.935302  -1.948072       0"
      ],
      "text/html": "<div>\n<style scoped>\n    .dataframe tbody tr th:only-of-type {\n        vertical-align: middle;\n    }\n\n    .dataframe tbody tr th {\n        vertical-align: top;\n    }\n\n    .dataframe thead th {\n        text-align: right;\n    }\n</style>\n<table border=\"1\" class=\"dataframe\">\n  <thead>\n    <tr style=\"text-align: right;\">\n      <th></th>\n      <th>PC1</th>\n      <th>PC2</th>\n      <th>target</th>\n    </tr>\n  </thead>\n  <tbody>\n    <tr>\n      <th>0</th>\n      <td>9.192837</td>\n      <td>1.948583</td>\n      <td>0</td>\n    </tr>\n    <tr>\n      <th>1</th>\n      <td>2.387802</td>\n      <td>-3.768172</td>\n      <td>0</td>\n    </tr>\n    <tr>\n      <th>2</th>\n      <td>5.733896</td>\n      <td>-1.075174</td>\n      <td>0</td>\n    </tr>\n    <tr>\n      <th>3</th>\n      <td>7.122953</td>\n      <td>10.275589</td>\n      <td>0</td>\n    </tr>\n    <tr>\n      <th>4</th>\n      <td>3.935302</td>\n      <td>-1.948072</td>\n      <td>0</td>\n    </tr>\n  </tbody>\n</table>\n</div>"
     },
     "metadata": {},
     "execution_count": 94
    }
   ],
   "source": [
    "cancer_pca_df = pd.DataFrame(cancer_pca, columns=['PC1','PC2'])\n",
    "cancer_pca_df['target'] = cancer.target\n",
    "cancer_pca_df.head()"
   ]
  },
  {
   "cell_type": "code",
   "execution_count": 95,
   "metadata": {},
   "outputs": [],
   "source": [
    "X_train, X_test, y_train, y_test = train_test_split(\n",
    "    cancer_pca, cancer.target, stratify=cancer.target, test_size = 0.2, random_state=2021\n",
    ")"
   ]
  },
  {
   "cell_type": "code",
   "execution_count": 96,
   "metadata": {},
   "outputs": [
    {
     "output_type": "stream",
     "name": "stdout",
     "text": [
      "분류 정확도:  0.9210526315789473\n"
     ]
    }
   ],
   "source": [
    "dtc = DecisionTreeClassifier(random_state=2021)\n",
    "dtc.fit(X_train,y_train)\n",
    "pred = dtc.predict(X_test)\n",
    "print('분류 정확도: ', accuracy_score(y_test, pred))"
   ]
  },
  {
   "source": [
    "#### 2차원에서는 정확도가 확 떨어진 것을 확인 할 수 있다."
   ],
   "cell_type": "markdown",
   "metadata": {}
  },
  {
   "source": [
    "### PCA변환 (30차원)"
   ],
   "cell_type": "markdown",
   "metadata": {}
  },
  {
   "cell_type": "code",
   "execution_count": 97,
   "metadata": {},
   "outputs": [
    {
     "output_type": "execute_result",
     "data": {
      "text/plain": [
       "array([[ 9.19283683,  1.94858307, -1.12316616,  3.6337309 , -1.19511012,\n",
       "         1.41142445,  2.15936987, -0.39840723, -0.15711836, -0.87740188,\n",
       "         0.26295546, -0.85901448,  0.10338766, -0.6908041 , -0.60179313,\n",
       "         0.74511579, -0.26547078, -0.54956269, -0.1337675 ,  0.3455649 ,\n",
       "         0.09651489,  0.06884992,  0.08451859, -0.17525628, -0.15102006,\n",
       "        -0.20150345, -0.25258499, -0.03391445,  0.04564772, -0.04716921]])"
      ]
     },
     "metadata": {},
     "execution_count": 97
    }
   ],
   "source": [
    "pca = PCA(n_components=30)\n",
    "cancer_pca = pca.fit_transform(cancer_std)\n",
    "cancer_pca[:1]"
   ]
  },
  {
   "cell_type": "code",
   "execution_count": 98,
   "metadata": {},
   "outputs": [],
   "source": [
    "X_train, X_test, y_train, y_test = train_test_split(\n",
    "    cancer_pca, cancer.target, stratify=cancer.target, test_size = 0.2, random_state=2021\n",
    ")"
   ]
  },
  {
   "cell_type": "code",
   "execution_count": 113,
   "metadata": {},
   "outputs": [
    {
     "output_type": "stream",
     "name": "stdout",
     "text": [
      "분류 정확도:  0.9473684210526315\n"
     ]
    }
   ],
   "source": [
    "dtc = DecisionTreeClassifier(random_state=2021)\n",
    "dtc.fit(X_train,y_train)\n",
    "pred = dtc.predict(X_test)\n",
    "print('분류 정확도: ', accuracy_score(y_test, pred))"
   ]
  },
  {
   "source": [
    "#### 차원이 높다고 정확도가 높은 것은 아닌것 같다"
   ],
   "cell_type": "markdown",
   "metadata": {}
  },
  {
   "cell_type": "code",
   "execution_count": null,
   "metadata": {},
   "outputs": [],
   "source": []
  }
 ]
}